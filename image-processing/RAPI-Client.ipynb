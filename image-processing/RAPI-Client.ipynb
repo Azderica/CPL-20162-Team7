{
 "cells": [
  {
   "cell_type": "code",
   "execution_count": null,
   "metadata": {},
   "outputs": [
    {
     "name": "stdout",
     "output_type": "stream",
     "text": [
      "working\n"
     ]
    }
   ],
   "source": [
    "import cv2\n",
    "import socket\n",
    "import numpy as np\n",
    " \n",
    "    \n",
    "    \n",
    "s = socket.socket(socket.AF_INET, socket.SOCK_STREAM)\n",
    "s.connect(('127.0.0.1', 8068))\n",
    " \n",
    " \n",
    "## webcam 이미지 capture\n",
    "cam = cv2.VideoCapture(0)\n",
    "\n",
    "#cam = cv2.VideoCapture('C://Docker/input2.mp4')\n",
    "\n",
    "# cam = cv2.VideoCapture('C://Users/kvlks/darkflow/input2.mp4')\n",
    "#cv2.VideoCapture(\"Image/Star.mp4\")\n",
    "\n",
    " \n",
    "## 이미지 속성 변경 3 = width, 4 = height\n",
    "#cam.set(3, 320);\n",
    "#cam.set(4, 240);\n",
    " \n",
    "## 0~100에서 90의 이미지 품질로 설정 (default = 95)\n",
    "encode_param = [int(cv2.IMWRITE_JPEG_QUALITY), 90]\n",
    " \n",
    "print('working')\n",
    "while True:\n",
    "# while cam.isOpened():\n",
    "    # 비디오의 한 프레임씩 읽는다.\n",
    "    # 제대로 읽으면 ret = True, 실패면 ret = False, frame에는 읽은 프레임\n",
    "    ret, frame = cam.read()\n",
    "    # cv2. imencode(ext, img [, params])\n",
    "    # encode_param의 형식으로 frame을 jpg로 이미지를 인코딩한다.\n",
    "    result, frame = cv2.imencode('.jpg', frame, encode_param)\n",
    "    # frame을 String 형태로 변환\n",
    "    data = np.array(frame)\n",
    "    stringData = data.tostring()\n",
    " \n",
    "    #서버에 데이터 전송\n",
    "    #(str(len(stringData))).encode().ljust(16)\n",
    "    s.sendall((str(len(stringData))).encode().ljust(16) + stringData)\n",
    "#     cv2.imshow('video',frame)\n",
    " \n",
    "cam.release()\n"
   ]
  },
  {
   "cell_type": "code",
   "execution_count": 6,
   "metadata": {},
   "outputs": [
    {
     "ename": "AttributeError",
     "evalue": "'NoneType' object has no attribute 'shape'",
     "output_type": "error",
     "traceback": [
      "\u001b[1;31m---------------------------------------------------------------------------\u001b[0m",
      "\u001b[1;31mAttributeError\u001b[0m                            Traceback (most recent call last)",
      "\u001b[1;32m<ipython-input-6-97c5cc0ab6e8>\u001b[0m in \u001b[0;36m<module>\u001b[1;34m\u001b[0m\n\u001b[0;32m     13\u001b[0m     \u001b[0mret\u001b[0m\u001b[1;33m,\u001b[0m \u001b[0mframe\u001b[0m \u001b[1;33m=\u001b[0m \u001b[0mcap\u001b[0m\u001b[1;33m.\u001b[0m\u001b[0mread\u001b[0m\u001b[1;33m(\u001b[0m\u001b[1;33m)\u001b[0m\u001b[1;33m\u001b[0m\u001b[1;33m\u001b[0m\u001b[0m\n\u001b[0;32m     14\u001b[0m \u001b[1;33m\u001b[0m\u001b[0m\n\u001b[1;32m---> 15\u001b[1;33m     \u001b[0mheight\u001b[0m\u001b[1;33m,\u001b[0m \u001b[0mwidth\u001b[0m\u001b[1;33m,\u001b[0m \u001b[0m_\u001b[0m \u001b[1;33m=\u001b[0m \u001b[0mframe\u001b[0m\u001b[1;33m.\u001b[0m\u001b[0mshape\u001b[0m\u001b[1;33m\u001b[0m\u001b[1;33m\u001b[0m\u001b[0m\n\u001b[0m\u001b[0;32m     16\u001b[0m     \u001b[1;31m#print(height, width)\u001b[0m\u001b[1;33m\u001b[0m\u001b[1;33m\u001b[0m\u001b[1;33m\u001b[0m\u001b[0m\n\u001b[0;32m     17\u001b[0m \u001b[1;33m\u001b[0m\u001b[0m\n",
      "\u001b[1;31mAttributeError\u001b[0m: 'NoneType' object has no attribute 'shape'"
     ]
    }
   ],
   "source": [
    "import cv2 \n",
    "cap = cv2.VideoCapture('C://Docker/input3.mp4') # 3은 가로 4는 세로 길이 \n",
    "#cap.set(3, 720) \n",
    "#cap.set(4, 1080) \n",
    "\n",
    "# width = 320\n",
    "# height = 240\n",
    "\n",
    "# fourcc = cv2.VideoWriter_fourcc('D', 'I', 'V', 'X')\n",
    "\n",
    "# writer = cv2.VideoWriter('output3.avi', fourcc, 30.0, (width, height))\n",
    "while cap.isOpened():\n",
    "    ret, frame = cap.read()\n",
    "    \n",
    "    height, width, _ = frame.shape\n",
    "    #print(height, width)\n",
    "    \n",
    "    frame = cv2.resize(frame, dsize=(width, height), interpolation=cv2.INTER_AREA)\n",
    "    #print(type(frame))\n",
    "    cv2.imshow('test', frame) \n",
    "#     writer.write(frame)\n",
    "        \n",
    "    k = cv2.waitKey(1) \n",
    "    if k == 27: \n",
    "        break \n",
    "        cap.release()\n"
   ]
  },
  {
   "cell_type": "code",
   "execution_count": null,
   "metadata": {},
   "outputs": [],
   "source": [
    "import cv2\n",
    "import socket\n",
    "import numpy as np\n",
    " \n",
    "    \n",
    "    \n",
    "s = socket.socket(socket.AF_INET, socket.SOCK_STREAM)\n",
    "s.connect(('127.0.0.1', 8068))\n",
    " \n",
    " \n",
    "## webcam 이미지 capture\n",
    "cam = cv2.VideoCapture(0)\n",
    "\n",
    "# cam = cv2.VideoCapture('C://Docker/input.mp4')\n",
    "\n",
    "# cam = cv2.VideoCapture('C://Users/kvlks/darkflow/input2.mp4')\n",
    "#cv2.VideoCapture(\"Image/Star.mp4\")\n",
    "\n",
    " \n",
    "## 이미지 속성 변경 3 = width, 4 = height\n",
    "cam.set(3, 320);\n",
    "cam.set(4, 240);\n",
    " \n",
    "## 0~100에서 90의 이미지 품질로 설정 (default = 95)\n",
    "encode_param = [int(cv2.IMWRITE_JPEG_QUALITY), 90]\n",
    " \n",
    "print('working')\n",
    "while True:\n",
    "# while cam.isOpened():\n",
    "    # 비디오의 한 프레임씩 읽는다.\n",
    "    # 제대로 읽으면 ret = True, 실패면 ret = False, frame에는 읽은 프레임\n",
    "    ret, frame = cam.read()\n",
    "    # cv2. imencode(ext, img [, params])\n",
    "    # encode_param의 형식으로 frame을 jpg로 이미지를 인코딩한다.\n",
    "    result, frame = cv2.imencode('.jpg', frame, encode_param)\n",
    "    # frame을 String 형태로 변환\n",
    "    data = np.array(frame)\n",
    "    stringData = data.tostring()\n",
    " \n",
    "    #서버에 데이터 전송\n",
    "    #(str(len(stringData))).encode().ljust(16)\n",
    "    s.sendall((str(len(stringData))).encode().ljust(16) + stringData)\n",
    "#     cv2.imshow('video',frame)\n",
    " \n",
    "cam.release()\n"
   ]
  }
 ],
 "metadata": {
  "kernelspec": {
   "display_name": "Python 3",
   "language": "python",
   "name": "python3"
  },
  "language_info": {
   "codemirror_mode": {
    "name": "ipython",
    "version": 3
   },
   "file_extension": ".py",
   "mimetype": "text/x-python",
   "name": "python",
   "nbconvert_exporter": "python",
   "pygments_lexer": "ipython3",
   "version": "3.6.8"
  }
 },
 "nbformat": 4,
 "nbformat_minor": 2
}
